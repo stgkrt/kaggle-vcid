{
 "cells": [
  {
   "cell_type": "code",
   "execution_count": 1,
   "metadata": {},
   "outputs": [],
   "source": [
    "import gc\n",
    "import os\n",
    "import random\n",
    "import time\n",
    "import math\n",
    "\n",
    "import cv2\n",
    "import numpy as np\n",
    "import matplotlib.pyplot as plt"
   ]
  },
  {
   "attachments": {},
   "cell_type": "markdown",
   "metadata": {},
   "source": [
    "# config"
   ]
  },
  {
   "cell_type": "code",
   "execution_count": 2,
   "metadata": {},
   "outputs": [],
   "source": [
    "BASE_DIR = \"/working/\"\n",
    "INPUT_DIR = os.path.join(BASE_DIR, \"input\")"
   ]
  },
  {
   "cell_type": "code",
   "execution_count": 3,
   "metadata": {},
   "outputs": [
    {
     "name": "stdout",
     "output_type": "stream",
     "text": [
      "/working/input/vesuvius-challenge-ink-detection/train/2\n",
      "read mask\n",
      "mask_shape (14830, 9506)\n",
      "read surface_volumes\n",
      "done\n"
     ]
    }
   ],
   "source": [
    "# Read mask and surface_volumes in train 2 directory \n",
    "SURFACE_NUM = 65\n",
    "train2_dir = os.path.join(INPUT_DIR, \"vesuvius-challenge-ink-detection\", \"train\", \"2\")\n",
    "print(train2_dir)\n",
    "print(\"read mask\")\n",
    "mask = cv2.imread(os.path.join(train2_dir, \"mask.png\"), cv2.IMREAD_GRAYSCALE)\n",
    "print(\"mask_shape\", mask.shape)\n",
    "print(\"read surface_volumes\")\n",
    "suface_volume = [cv2.imread(os.path.join(train2_dir, \"surface_volume\", f\"{idx:02d}.tif\"), cv2.IMREAD_GRAYSCALE) for idx in range(SURFACE_NUM)]\n",
    "print(\"done\")\n"
   ]
  },
  {
   "cell_type": "code",
   "execution_count": 4,
   "metadata": {},
   "outputs": [
    {
     "name": "stdout",
     "output_type": "stream",
     "text": [
      "cut and save imgs\n",
      "save imgs\n",
      "/working/input/vesuvius-challenge-ink-detection/train/2_0\n",
      "done\n",
      "cut and save imgs\n",
      "save imgs\n",
      "/working/input/vesuvius-challenge-ink-detection/train/2_1\n",
      "done\n",
      "cut and save imgs\n",
      "save imgs\n",
      "/working/input/vesuvius-challenge-ink-detection/train/2_2\n",
      "done\n"
     ]
    }
   ],
   "source": [
    "# (surface_volumes and mask) and cut and save imgs\n",
    "for idx, img_height in enumerate([[0, 4943], [4943,9886], [9886, 14830]]):\n",
    "    print(\"cut and save imgs\")\n",
    "    mask_cut = mask[img_height[0]:img_height[1], :]\n",
    "    suface_volume_cut = [img[img_height[0]:img_height[1], :] for img in suface_volume]\n",
    "    print(\"save imgs\")\n",
    "    OUTPUT_DIR = os.path.join(INPUT_DIR, \"vesuvius-challenge-ink-detection\", \"train\", f\"2_{idx}\")\n",
    "    print(OUTPUT_DIR)\n",
    "    cv2.imwrite(os.path.join(OUTPUT_DIR, \"mask.png\"), mask_cut)\n",
    "    for surface_idx, img in enumerate(suface_volume_cut):\n",
    "        cv2.imwrite(os.path.join(OUTPUT_DIR, \"surface_volume\", f\"{surface_idx:02d}.tif\"), img)\n",
    "    print(\"done\")\n"
   ]
  },
  {
   "cell_type": "code",
   "execution_count": 5,
   "metadata": {},
   "outputs": [
    {
     "name": "stdout",
     "output_type": "stream",
     "text": [
      "cut and save imgs\n",
      "save imgs\n",
      "/working/input/vesuvius-challenge-ink-detection/train/2_0\n",
      "done\n",
      "cut and save imgs\n",
      "save imgs\n",
      "/working/input/vesuvius-challenge-ink-detection/train/2_1\n",
      "done\n",
      "cut and save imgs\n",
      "save imgs\n",
      "/working/input/vesuvius-challenge-ink-detection/train/2_2\n",
      "done\n"
     ]
    }
   ],
   "source": [
    "# inklabel and cut and save imgs\n",
    "inklabel = cv2.imread(os.path.join(train2_dir, \"inklabels.png\"), cv2.IMREAD_GRAYSCALE)\n",
    "for idx, img_height in enumerate([[0, 4943], [4943,9886], [9886, 14830]]):\n",
    "    print(\"cut and save imgs\")\n",
    "    inklabel_cut = inklabel[img_height[0]:img_height[1], :]\n",
    "    print(\"save imgs\")\n",
    "    OUTPUT_DIR = os.path.join(INPUT_DIR, \"vesuvius-challenge-ink-detection\", \"train\", f\"2_{idx}\")\n",
    "    print(OUTPUT_DIR)\n",
    "    cv2.imwrite(os.path.join(OUTPUT_DIR, \"inklabels.png\"), inklabel_cut)\n",
    "    print(\"done\")"
   ]
  },
  {
   "cell_type": "code",
   "execution_count": null,
   "metadata": {},
   "outputs": [],
   "source": []
  }
 ],
 "metadata": {
  "kernelspec": {
   "display_name": "Python 3 (ipykernel)",
   "language": "python",
   "name": "python3"
  },
  "language_info": {
   "codemirror_mode": {
    "name": "ipython",
    "version": 3
   },
   "file_extension": ".py",
   "mimetype": "text/x-python",
   "name": "python",
   "nbconvert_exporter": "python",
   "pygments_lexer": "ipython3",
   "version": "3.7.12"
  },
  "orig_nbformat": 4
 },
 "nbformat": 4,
 "nbformat_minor": 2
}
